{
  "nbformat": 4,
  "nbformat_minor": 0,
  "metadata": {
    "colab": {
      "provenance": []
    },
    "kernelspec": {
      "name": "python3",
      "display_name": "Python 3"
    },
    "language_info": {
      "name": "python"
    }
  },
  "cells": [
    {
      "cell_type": "markdown",
      "source": [
        "**No:7.1 Task-1**"
      ],
      "metadata": {
        "id": "qzuHzGWI2lbl"
      }
    },
    {
      "cell_type": "code",
      "source": [
        "temperatures = [\n",
        "    8.2, 17.4, 14.1, 7.9, 18.0, 13.5, 9.0, 17.8, 13.0, 8.5,\n",
        "    16.5, 12.9, 7.7, 17.2, 13.3, 8.4, 16.7, 14.0, 9.5, 18.3,\n",
        "    13.4, 8.1, 17.9, 14.2, 7.6, 17.0, 12.8, 8.0, 16.8, 13.7,\n",
        "    7.8, 17.5, 13.6, 8.7, 17.1, 13.8, 9.2, 18.1, 13.9, 8.3,\n",
        "    16.4, 12.7, 8.9, 18.2, 13.1, 7.8, 16.6, 12.5\n",
        "]\n",
        "\n",
        "cold = []\n",
        "mild = []\n",
        "comfortable = []\n",
        "\n",
        "for temp in temperatures:\n",
        "    if temp < 10:\n",
        "        cold.append(temp)\n",
        "    elif 10 <= temp < 15:\n",
        "        mild.append(temp)\n",
        "    elif 15 <= temp <= 20:\n",
        "        comfortable.append(temp)\n",
        "classified_temperatures = {\n",
        "    \"Cold\": cold,\n",
        "    \"Mild\": mild,\n",
        "    \"Comfortable\": comfortable\n",
        "}\n",
        "print(classified_temperatures)\n",
        "print(\"Cold temperatures:\", cold)\n",
        "print(\"Mild temperatures:\", mild)\n",
        "print(\"Comfortable temperatures:\", comfortable)"
      ],
      "metadata": {
        "colab": {
          "base_uri": "https://localhost:8080/"
        },
        "id": "rgyEgBvb4xWo",
        "outputId": "4c9c1e8e-5318-4407-83ee-7088b46095a5"
      },
      "execution_count": 4,
      "outputs": [
        {
          "output_type": "stream",
          "name": "stdout",
          "text": [
            "{'Cold': [8.2, 7.9, 9.0, 8.5, 7.7, 8.4, 9.5, 8.1, 7.6, 8.0, 7.8, 8.7, 9.2, 8.3, 8.9, 7.8], 'Mild': [14.1, 13.5, 13.0, 12.9, 13.3, 14.0, 13.4, 14.2, 12.8, 13.7, 13.6, 13.8, 13.9, 12.7, 13.1, 12.5], 'Comfortable': [17.4, 18.0, 17.8, 16.5, 17.2, 16.7, 18.3, 17.9, 17.0, 16.8, 17.5, 17.1, 18.1, 16.4, 18.2, 16.6]}\n",
            "Cold temperatures: [8.2, 7.9, 9.0, 8.5, 7.7, 8.4, 9.5, 8.1, 7.6, 8.0, 7.8, 8.7, 9.2, 8.3, 8.9, 7.8]\n",
            "Mild temperatures: [14.1, 13.5, 13.0, 12.9, 13.3, 14.0, 13.4, 14.2, 12.8, 13.7, 13.6, 13.8, 13.9, 12.7, 13.1, 12.5]\n",
            "Comfortable temperatures: [17.4, 18.0, 17.8, 16.5, 17.2, 16.7, 18.3, 17.9, 17.0, 16.8, 17.5, 17.1, 18.1, 16.4, 18.2, 16.6]\n"
          ]
        }
      ]
    },
    {
      "cell_type": "markdown",
      "source": [
        "**No:7.1 Task-2**"
      ],
      "metadata": {
        "id": "GtnHEdJd3D2k"
      }
    },
    {
      "cell_type": "code",
      "source": [
        "cold = [8.2, 7.9, 9.0, 8.5, 7.7, 8.4, 9.5, 8.1, 7.6, 8.0, 7.8, 8.7, 9.2, 8.3, 8.9, 7.8]\n",
        "mild = [14.1, 13.5, 13.0, 12.9, 13.3, 14.0, 13.4, 14.2, 12.8, 13.7, 13.6, 13.8, 13.9, 12.7, 13.1, 12.5]\n",
        "comfortable = [17.4, 18.0, 17.8, 16.5, 17.2, 16.7, 18.3, 17.9, 17.0, 16.8, 17.5, 17.1, 18.1, 16.4, 18.2, 16.6]\n",
        "\n",
        "mild_count = len(mild)\n",
        "comfortable_count = len(comfortable)\n",
        "cold_count = len(cold)\n",
        "\n",
        "print(\"How many times was it mild?\")\n",
        "print(\"Ans:\", mild_count)\n",
        "print(\"How many times was it comfortable?\")\n",
        "print(\"Ans:\", comfortable_count)\n",
        "print(\"How many times was it cold?\")\n",
        "print(\"Ans:\", cold_count)"
      ],
      "metadata": {
        "colab": {
          "base_uri": "https://localhost:8080/"
        },
        "id": "VSInmhIx9gJw",
        "outputId": "15f9a35b-2ef5-4d75-8e67-15c66d3aeba5"
      },
      "execution_count": 6,
      "outputs": [
        {
          "output_type": "stream",
          "name": "stdout",
          "text": [
            "How many times was it mild?\n",
            "Ans: 16\n",
            "How many times was it comfortable?\n",
            "Ans: 16\n",
            "How many times was it cold?\n",
            "Ans: 16\n"
          ]
        }
      ]
    },
    {
      "cell_type": "markdown",
      "source": [
        "**No:7.1 Task-3**"
      ],
      "metadata": {
        "id": "K300INpS4MR2"
      }
    },
    {
      "cell_type": "code",
      "source": [
        "temperatures = [\n",
        "    8.2, 17.4, 14.1, 7.9, 18.0, 13.5, 9.0, 17.8, 13.0, 8.5,\n",
        "    16.5, 12.9, 7.7, 17.2, 13.3, 8.4, 16.7, 14.0, 9.5, 18.3,\n",
        "    13.4, 8.1, 17.9, 14.2, 7.6, 17.0, 12.8, 8.0, 16.8, 13.7,\n",
        "    7.8, 17.5, 13.6, 8.7, 17.1, 13.8, 9.2, 18.1, 13.9, 8.3,\n",
        "    16.4, 12.7, 8.9, 18.2, 13.1, 7.8, 16.6, 12.5\n",
        "]\n",
        "\n",
        "temperatures_fahrenheit = []\n",
        "for temp in temperatures:\n",
        "    fahrenheit = (temp * 9/5) + 32\n",
        "    temperatures_fahrenheit.append(fahrenheit)\n",
        "\n",
        "print(\"Temperatures in Fahrenheit:\",temperatures_fahrenheit)"
      ],
      "metadata": {
        "colab": {
          "base_uri": "https://localhost:8080/"
        },
        "id": "uLQZiGkk-c7V",
        "outputId": "4c414716-8724-4239-b793-d9ac202fe5ba"
      },
      "execution_count": 9,
      "outputs": [
        {
          "output_type": "stream",
          "name": "stdout",
          "text": [
            "Temperatures in Fahrenheit: [46.76, 63.32, 57.379999999999995, 46.22, 64.4, 56.3, 48.2, 64.04, 55.4, 47.3, 61.7, 55.22, 45.86, 62.959999999999994, 55.94, 47.120000000000005, 62.059999999999995, 57.2, 49.1, 64.94, 56.120000000000005, 46.58, 64.22, 57.56, 45.68, 62.6, 55.04, 46.4, 62.24, 56.66, 46.04, 63.5, 56.48, 47.66, 62.78, 56.84, 48.56, 64.58, 57.02, 46.94, 61.519999999999996, 54.86, 48.02, 64.75999999999999, 55.58, 46.04, 61.88, 54.5]\n"
          ]
        }
      ]
    },
    {
      "cell_type": "markdown",
      "source": [
        "**No:7.1 Task-4**"
      ],
      "metadata": {
        "id": "K0F-zpGs4RyK"
      }
    },
    {
      "cell_type": "code",
      "source": [
        "temperatures = [10, 12, 11, 13, 15, 16, 14, 12, 18, 20, 21, 19, 22, 23, 21, 20, 25, 27, 26, 24, 23, 22, 21, 20]\n",
        "\n",
        "night_temps = temperatures[:8]\n",
        "evening_temps = temperatures[8:16]\n",
        "day_temps = temperatures[16:]\n",
        "\n",
        "average_day_temp = sum(day_temps) / len(day_temps)\n",
        "\n",
        "print(\"Night Temperatures:\", night_temps)\n",
        "print(\"Evening Temperatures:\", evening_temps)\n",
        "print(\"Day Temperatures:\", day_temps)\n",
        "print(\"Average Day-Time Temperature:\", average_day_temp)"
      ],
      "metadata": {
        "colab": {
          "base_uri": "https://localhost:8080/"
        },
        "id": "D1VBVqXRALHy",
        "outputId": "6917dbce-45ff-41ae-8113-cf5f9e477ded"
      },
      "execution_count": 13,
      "outputs": [
        {
          "output_type": "stream",
          "name": "stdout",
          "text": [
            "Night Temperatures: [10, 12, 11, 13, 15, 16, 14, 12]\n",
            "Evening Temperatures: [18, 20, 21, 19, 22, 23, 21, 20]\n",
            "Day Temperatures: [25, 27, 26, 24, 23, 22, 21, 20]\n",
            "Average Day-Time Temperature: 23.5\n"
          ]
        }
      ]
    },
    {
      "cell_type": "markdown",
      "source": [],
      "metadata": {
        "id": "TpAUQVRS3hjQ"
      }
    },
    {
      "cell_type": "markdown",
      "source": [
        "**No:8.1 Task-2**"
      ],
      "metadata": {
        "id": "X5HwBf-CBBoI"
      }
    },
    {
      "cell_type": "code",
      "source": [
        "def generate_permutations(s):\n",
        "\n",
        "    if len(s) == 1:\n",
        "        return [s]\n",
        "    permutations = set()\n",
        "\n",
        "    for i, char in enumerate(s):\n",
        "        remaining = s[:i] + s[i+1:]\n",
        "        for perm in generate_permutations(remaining):\n",
        "            permutations.add(char + perm)\n",
        "    return list(permutations)\n",
        "\n",
        "print(\"Permutations of 'jkl':\", generate_permutations(\"jkl\"))\n",
        "print(\"Permutations of 'def':\", generate_permutations(\"def\"))"
      ],
      "metadata": {
        "colab": {
          "base_uri": "https://localhost:8080/"
        },
        "id": "97HxQmORDcgV",
        "outputId": "40114751-173d-4405-e3bc-0b8aaa8b6d6e"
      },
      "execution_count": 14,
      "outputs": [
        {
          "output_type": "stream",
          "name": "stdout",
          "text": [
            "Permutations of 'jkl': ['lkj', 'klj', 'kjl', 'ljk', 'jkl', 'jlk']\n",
            "Permutations of 'def': ['efd', 'edf', 'fed', 'fde', 'dfe', 'def']\n"
          ]
        }
      ]
    },
    {
      "cell_type": "markdown",
      "source": [
        "**No:8.2.2 Task-2**"
      ],
      "metadata": {
        "id": "lwqRSil-D9IE"
      }
    },
    {
      "cell_type": "code",
      "source": [
        "def longest_common_subsequence(s1, s2):\n",
        "\n",
        "    dp = [[0] * (len(s2) + 1) for _ in range(len(s1) + 1)]\n",
        "    for i in range(1, len(s1) + 1):\n",
        "        for j in range(1, len(s2) + 1):\n",
        "            if s1[i - 1] == s2[j - 1]:\n",
        "                dp[i][j] = dp[i - 1][j - 1] + 1\n",
        "            else:\n",
        "                dp[i][j] = max(dp[i - 1][j], dp[i][j - 1])\n",
        "\n",
        "    return dp[len(s1)][len(s2)]\n",
        "\n",
        "print(longest_common_subsequence(\"abcde\", \"ace\"))"
      ],
      "metadata": {
        "colab": {
          "base_uri": "https://localhost:8080/"
        },
        "id": "MGUQICFTEBZD",
        "outputId": "20ee6b60-e1a3-4ec0-8773-cc056ab51a93"
      },
      "execution_count": 15,
      "outputs": [
        {
          "output_type": "stream",
          "name": "stdout",
          "text": [
            "3\n"
          ]
        }
      ]
    },
    {
      "cell_type": "markdown",
      "source": [
        "**No:8.2.2 Task-3**"
      ],
      "metadata": {
        "id": "3QGqEaBSFl8F"
      }
    },
    {
      "cell_type": "code",
      "source": [
        "def knapsack(weights, values, capacity):\n",
        "\n",
        "    n = len(weights)\n",
        "    dp = [[0] * (capacity + 1) for _ in range(n + 1)]\n",
        "    for i in range(1, n + 1):\n",
        "        for w in range(1, capacity + 1):\n",
        "            if weights[i - 1] <= w:\n",
        "                include = values[i - 1] + dp[i - 1][w - weights[i - 1]]\n",
        "                exclude = dp[i - 1][w]\n",
        "                dp[i][w] = max(include, exclude)\n",
        "            else:\n",
        "                dp[i][w] = dp[i - 1][w]\n",
        "\n",
        "    return dp[n][capacity]\n",
        "\n",
        "weights = [1, 3, 4, 5]\n",
        "values = [1, 4, 5, 7]\n",
        "capacity = 7\n",
        "\n",
        "max_value = knapsack(weights, values, capacity)\n",
        "print(\"Maximum Value:\", max_value)"
      ],
      "metadata": {
        "colab": {
          "base_uri": "https://localhost:8080/"
        },
        "id": "HOgGkO6JFosJ",
        "outputId": "f621a7c9-28ab-4285-fefb-e63a62be8e43"
      },
      "execution_count": 16,
      "outputs": [
        {
          "output_type": "stream",
          "name": "stdout",
          "text": [
            "Maximum Value: 9\n"
          ]
        }
      ]
    },
    {
      "cell_type": "markdown",
      "source": [],
      "metadata": {
        "id": "sdReWTxxFeFJ"
      }
    }
  ]
}